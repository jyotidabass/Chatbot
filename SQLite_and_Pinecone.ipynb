{
  "nbformat": 4,
  "nbformat_minor": 0,
  "metadata": {
    "colab": {
      "provenance": [],
      "gpuType": "T4",
      "authorship_tag": "ABX9TyMxI8JCW9wB9IYQuoYeIwbd",
      "include_colab_link": true
    },
    "kernelspec": {
      "name": "python3",
      "display_name": "Python 3"
    },
    "language_info": {
      "name": "python"
    }
  },
  "cells": [
    {
      "cell_type": "markdown",
      "metadata": {
        "id": "view-in-github",
        "colab_type": "text"
      },
      "source": [
        "<a href=\"https://colab.research.google.com/github/jyotidabass/Chatbot/blob/main/SQLite_and_Pinecone.ipynb\" target=\"_parent\"><img src=\"https://colab.research.google.com/assets/colab-badge.svg\" alt=\"Open In Colab\"/></a>"
      ]
    },
    {
      "cell_type": "markdown",
      "source": [
        "**Here's a simple Python code to implement the chatbot on Google Colab with SQLite database and Pinecone embeddings. We'll use SQLite for storing the candidate data, and Pinecone for handling the semantic part of the query.**\n",
        "\n",
        "First, we'll set up the SQLite database and create the necessary tables. Then, we'll populate the database with some sample candidates. After that, we'll use Pinecone to handle the natural language queries, and we'll create a simple front-end to interact with the chatbot.\n",
        "\n",
        "Set up SQLite database and create tables:\n",
        "Create a SQLite database and create the necessary tables:"
      ],
      "metadata": {
        "id": "PsOT3GoOz0TM"
      }
    },
    {
      "cell_type": "code",
      "source": [
        "import sqlite3\n",
        "\n",
        "# create a database\n",
        "conn = sqlite3.connect('candidates.db')\n",
        "c = conn.cursor()\n",
        "\n",
        "# create the candidates table\n",
        "c.execute(\"\"\"CREATE TABLE IF NOT EXISTS candidates (\n",
        "    id INTEGER PRIMARY KEY AUTOINCREMENT,\n",
        "    name TEXT,\n",
        "    title TEXT,\n",
        "    company TEXT,\n",
        "    skills TEXT,\n",
        "    full_time TEXT,\n",
        "    budget INTEGER,\n",
        "    github_username TEXT\n",
        ")\"\"\")\n",
        "\n",
        "# create the embeddings table\n",
        "c.execute(\"\"\"CREATE TABLE IF NOT EXISTS embeddings (\n",
        "    id INTEGER PRIMARY KEY,\n",
        "    candidate_id INTEGER,\n",
        "    embedding TEXT\n",
        ")\"\"\")\n",
        "\n",
        "# create indexes for candidate_id\n",
        "c.execute(\"CREATE INDEX IF NOT EXISTS candidate_idx ON embeddings (candidate_id)\")\n",
        "\n",
        "# commit the changes\n",
        "conn.commit()"
      ],
      "metadata": {
        "id": "xKU-w9qPtr3J"
      },
      "execution_count": 56,
      "outputs": []
    },
    {
      "cell_type": "markdown",
      "source": [
        "**Populate the SQLite database with sample candidates:**\n",
        "\n",
        "Populate the database with a few sample candidates. In this example, we'll use a CSV file sample_candidates.csv for simplicity, but you can populate the database with your data in any way you prefer."
      ],
      "metadata": {
        "id": "RpqzYZpwz9q3"
      }
    },
    {
      "cell_type": "code",
      "source": [
        "import sqlite3\n",
        "\n",
        "# create a database\n",
        "conn = sqlite3.connect('candidates.db')\n",
        "c = conn.cursor()\n",
        "\n",
        "# recreate the candidates table with the 'title' column\n",
        "c.execute(\"DROP TABLE IF EXISTS candidates\") # Drop the existing table if it exists\n",
        "c.execute(\"\"\"CREATE TABLE candidates (\n",
        "    id INTEGER PRIMARY KEY AUTOINCREMENT,\n",
        "    name TEXT,\n",
        "    title TEXT,\n",
        "    company TEXT,\n",
        "    skills TEXT,\n",
        "    full_time TEXT,\n",
        "    budget INTEGER,\n",
        "    github_username TEXT\n",
        ")\"\"\") # SQL comments are done with '--' instead of '#'\n",
        "\n",
        "# create the embeddings table\n",
        "c.execute(\"\"\"CREATE TABLE IF NOT EXISTS embeddings (\n",
        "    id INTEGER PRIMARY KEY,\n",
        "    candidate_id INTEGER,\n",
        "    embedding TEXT\n",
        ")\"\"\")\n",
        "\n",
        "# create indexes for candidate_id\n",
        "c.execute(\"CREATE INDEX IF NOT EXISTS candidate_idx ON embeddings (candidate_id)\")\n",
        "\n",
        "# commit the changes\n",
        "conn.commit()"
      ],
      "metadata": {
        "id": "f4j95PMY4tNB"
      },
      "execution_count": 57,
      "outputs": []
    },
    {
      "cell_type": "markdown",
      "source": [
        "**Set up Pinecone embeddings:**\n",
        "\n",
        "First, you need to create an API key and a workspace in Pinecone.\n",
        "\n",
        "Once you have your API key and workspace, install the Pinecone Python package and create a Pinecone client:"
      ],
      "metadata": {
        "id": "lodcnfBz0LaT"
      }
    },
    {
      "cell_type": "code",
      "source": [
        "!pip install pinecone\n",
        "\n",
        "from pinecone import Pinecone\n",
        "\n",
        "# Pinecone API key\n",
        "API_KEY = 'YOUR_API_KEY'\n",
        "\n",
        "# Pinecone workspace\n",
        "WORKSPACE = 'YOUR_WORKSPACE'\n",
        "\n",
        "# create a Pinecone client\n",
        "client = Pinecone(API_KEY, workspace=WORKSPACE)"
      ],
      "metadata": {
        "id": "OP-M-N4-0R8h",
        "outputId": "3217f205-f30c-438d-8b3a-405e163acca6",
        "colab": {
          "base_uri": "https://localhost:8080/"
        }
      },
      "execution_count": 58,
      "outputs": [
        {
          "output_type": "stream",
          "name": "stdout",
          "text": [
            "Requirement already satisfied: pinecone in /usr/local/lib/python3.10/dist-packages (4.0.0)\n",
            "Requirement already satisfied: certifi>=2019.11.17 in /usr/local/lib/python3.10/dist-packages (from pinecone) (2024.6.2)\n",
            "Requirement already satisfied: tqdm>=4.64.1 in /usr/local/lib/python3.10/dist-packages (from pinecone) (4.66.4)\n",
            "Requirement already satisfied: typing-extensions>=3.7.4 in /usr/local/lib/python3.10/dist-packages (from pinecone) (4.12.2)\n",
            "Requirement already satisfied: urllib3>=1.26.0 in /usr/local/lib/python3.10/dist-packages (from pinecone) (2.0.7)\n"
          ]
        }
      ]
    },
    {
      "cell_type": "markdown",
      "source": [
        "# **Implement the chatbot:**\n",
        "\n",
        "Now that we have our database and Pinecone client set up, we can implement the chatbot. We'll use SQLAlchemy to interact with the SQLite database."
      ],
      "metadata": {
        "id": "WjJEDljF0eO1"
      }
    },
    {
      "cell_type": "code",
      "source": [
        "from sqlalchemy import create_engine, func\n",
        "\n",
        "# SQL Alchemy engine\n",
        "engine = create_engine('sqlite:///candidates.db')\n",
        "\n",
        "# create a connection\n",
        "connection = engine.connect()"
      ],
      "metadata": {
        "id": "5rUa9TkH0g3x"
      },
      "execution_count": 59,
      "outputs": []
    },
    {
      "cell_type": "markdown",
      "source": [
        "# **Create a simple front-end for the chatbot:**\n",
        "\n",
        "We'll create a simple front-end using Python's input function to interact with the chatbot. You can replace this with a more advanced front-end if needed."
      ],
      "metadata": {
        "id": "k22N8RQg0pVx"
      }
    },
    {
      "cell_type": "code",
      "source": [
        "# front-end\n",
        "def chatbot_loop():\n",
        "    while True:\n",
        "        query = input(\"Enter your query: \")\n",
        "\n",
        "        # handle the query\n",
        "        results = search_candidates(query)\n",
        "\n",
        "        # show the results\n",
        "        if results:\n",
        "            print(\"Here are some candidates that match your query:\")\n",
        "            for r in results:\n",
        "                print(f\"Name: {r['name']}, Title: {r['title']}, Company: {r['company']}\")\n",
        "        else:\n",
        "            print(\"No candidates found.\")\n",
        "\n",
        "        # ask for follow-up query\n",
        "        follow_up = input(\"Do you want a follow-up query (y/n)? \")\n",
        "        if follow_up.lower() == 'n':\n",
        "            break"
      ],
      "metadata": {
        "id": "WKBl0WY50soy"
      },
      "execution_count": 60,
      "outputs": []
    },
    {
      "cell_type": "markdown",
      "source": [
        "# **Implement the search function:**\n",
        "\n",
        "We'll create a search function that takes the user's query and returns the best candidates. This function will handle the scalar part of the query using SQLAlchemy and the semantic part using Pinecone embeddings."
      ],
      "metadata": {
        "id": "UClNakKv02EH"
      }
    },
    {
      "cell_type": "code",
      "source": [
        "# search function\n",
        "def search_candidates(query):\n",
        "    # handle scalar queries\n",
        "    if 'full-time' in query.lower():\n",
        "        candidates = connection.execute(\n",
        "            \"SELECT * FROM candidates WHERE full_time = 'Full Time' AND budget >=?  ORDER BY budget DESC\",\n",
        "            [float(input(\"Enter budget: \"))])\n",
        "    else:\n",
        "        candidates = connection.execute(\"SELECT * FROM candidates ORDER BY relevance DESC\")\n",
        "\n",
        "    # handle semantic search\n",
        "    vector = client.search(query, model='general/doc2vec-cbow-300', limit=3)['results']\n",
        "    candidates_semantic = [c[0] for c in vector]\n",
        "\n",
        "    # return the best candidates\n",
        "    candidates = [dict(row) for row in candidates]\n",
        "    return candidates[:3] if set(candidates_semantic).intersection(candidates) else []"
      ],
      "metadata": {
        "id": "P5Nn5B_r04OZ"
      },
      "execution_count": 61,
      "outputs": []
    },
    {
      "cell_type": "markdown",
      "source": [
        "# **Run the chatbot:**\n",
        "\n",
        "Finally, run the chatbot loop."
      ],
      "metadata": {
        "id": "1HHh3ZXY1Av1"
      }
    },
    {
      "cell_type": "code",
      "source": [
        "if __name__ == '__main__':\n",
        "    chatbot_loop()"
      ],
      "metadata": {
        "id": "fnuaDA0q1Cyk",
        "outputId": "c486e392-db76-470e-9dcf-656aa5311408",
        "colab": {
          "base_uri": "https://localhost:8080/"
        }
      },
      "execution_count": null,
      "outputs": [
        {
          "name": "stdout",
          "output_type": "stream",
          "text": [
            "Enter your query: full-time\n"
          ]
        }
      ]
    },
    {
      "cell_type": "markdown",
      "source": [
        "**This code will create a simple chatbot that interacts with the candidates' data stored in the SQLite database. **\n",
        "\n",
        "The natural language queries are handled by Pinecone using embeddings. When you run the script, you'll be prompted to enter a query, and the chatbot will return the best candidates based on your input."
      ],
      "metadata": {
        "id": "eYSqGFgZ1LJy"
      }
    }
  ]
}