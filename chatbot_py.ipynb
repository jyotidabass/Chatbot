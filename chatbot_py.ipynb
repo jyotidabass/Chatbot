{
  "nbformat": 4,
  "nbformat_minor": 0,
  "metadata": {
    "colab": {
      "provenance": [],
      "authorship_tag": "ABX9TyNRPOBooPdUQZBquv+q1ZMh",
      "include_colab_link": true
    },
    "kernelspec": {
      "name": "python3",
      "display_name": "Python 3"
    },
    "language_info": {
      "name": "python"
    }
  },
  "cells": [
    {
      "cell_type": "markdown",
      "metadata": {
        "id": "view-in-github",
        "colab_type": "text"
      },
      "source": [
        "<a href=\"https://colab.research.google.com/github/jyotidabass/Chatbot/blob/main/chatbot_py.ipynb\" target=\"_parent\"><img src=\"https://colab.research.google.com/assets/colab-badge.svg\" alt=\"Open In Colab\"/></a>"
      ]
    },
    {
      "cell_type": "markdown",
      "source": [
        "# **Connect to the SQLite database**"
      ],
      "metadata": {
        "id": "BRy9QAHj3QvV"
      }
    },
    {
      "cell_type": "code",
      "execution_count": 1,
      "metadata": {
        "id": "9vhw0X1a2zh7"
      },
      "outputs": [],
      "source": [
        "import sqlite3\n",
        "import numpy as np\n",
        "import click\n",
        "from sklearn.metrics.pairwise import cosine_similarity\n",
        "\n",
        "def connect_to_db():\n",
        "    conn = sqlite3.connect('workers.db')\n",
        "    return conn\n",
        "\n",
        "def create_schema(conn):\n",
        "    c = conn.cursor()\n",
        "\n",
        "    c.execute('''CREATE TABLE IF NOT EXISTS Worker\n",
        "                 (id INTEGER PRIMARY KEY,\n",
        "                 name TEXT,\n",
        "                 experience TEXT,\n",
        "                 skills TEXT,\n",
        "                 full_time INTEGER,\n",
        "                 hourly_rate INTEGER,\n",
        "                 company TEXT)''')"
      ]
    },
    {
      "cell_type": "markdown",
      "source": [
        "# **Helper functions**"
      ],
      "metadata": {
        "id": "lknhsXQr3YmT"
      }
    },
    {
      "cell_type": "code",
      "source": [
        "def create_sample_data(conn):\n",
        "    c = conn.cursor()\n",
        "\n",
        "    c.execute(\"INSERT INTO Worker (name, experience, skills, full_time, hourly_rate, company) VALUES (?, ?, ?, ?, ?, ?)\",\n",
        "              ('John Doe', '5 years', 'Python,SQLAlchemy,Flask', 1, 20, 'Acme Corp'))\n",
        "    c.execute(\"INSERT INTO Worker (name, experience, skills, full_time, hourly_rate, company) VALUES (?, ?, ?, ?, ?, ?)\",\n",
        "              ('Jane Smith', '3 years', 'Java,Spring,MySQL', 0, 18, 'ABC Widgets'))\n",
        "    c.execute(\"INSERT INTO Worker (name, experience, skills, full_time, hourly_rate, company) VALUES (?, ?, ?, ?, ?, ?)\",\n",
        "              ('Bob Johnson', '10 years', 'JavaScript,React,Node.js', 1, 25, 'Cloud9 Solutions'))\n",
        "\n",
        "    conn.commit()\n",
        "\n",
        "def get_scalar_values(query):\n",
        "    # This function should extract scalar values from the query (e.g., budget and skills)\n",
        "    # Replace this with your custom implementation\n",
        "\n",
        "    return {'full_time': True, 'budget': 10000, 'skills': 'Python,React,AWS'}\n",
        "\n",
        "def get_semantic_values(query):\n",
        "    # This function should extract semantic values from the query (e.g., job title)\n",
        "    # Replace this with your custom implementation\n",
        "\n",
        "    return {'company': 'big tech company'}"
      ],
      "metadata": {
        "id": "En7B4qEA26Wr"
      },
      "execution_count": 2,
      "outputs": []
    },
    {
      "cell_type": "markdown",
      "source": [
        "# **Main function**"
      ],
      "metadata": {
        "id": "hUytJyra3fKk"
      }
    },
    {
      "cell_type": "code",
      "source": [
        "@click.command()\n",
        "@click.argument('query')\n",
        "@click.option('--embedding_file', default='embedding.npy')\n",
        "def search_workers(query, embedding_file):\n",
        "    # Load the SQLite database\n",
        "    conn = connect_to_db()\n",
        "\n",
        "    # Load embeddings from the file\n",
        "    embeddings = np.load(embedding_file)\n",
        "\n",
        "    # Process query and perform search\n",
        "    results = perform_search(query, embeddings, conn)\n",
        "\n",
        "    # Print results\n",
        "    for result in results:\n",
        "        print(result)\n",
        "    print(\"\\n\")\n",
        "\n",
        "def perform_search(query, embeddings, conn):\n",
        "    scalar_values = get_scalar_values(query)\n",
        "    semantic_values = get_semantic_values(query)\n",
        "\n",
        "    results = vector_search(semantic_values, embeddings, conn)\n",
        "\n",
        "    return combine_search_results(scalar_values, results, conn)\n",
        "\n",
        "def vector_search(semantic_values, embeddings, conn):\n",
        "    c = conn.cursor()\n",
        "\n",
        "    worker_embeddings = [generate_embedding(worker) for worker in c.execute(\"SELECT embeddings FROM Worker\").fetchall()]\n",
        "    similarities = cosine_similarity(embeddings.reshape(1, -1), worker_embeddings).flatten()\n",
        "    results = c.execute(\"SELECT name, experience, full_time, hourly_rate, company FROM Worker WHERE id IN (SELECT worker_id FROM Embeddings ORDER BY ? LIMIT 5)\", (similarities,))\n",
        "    return results\n",
        "\n",
        "def combine_search_results(scalar_values, results, conn):\n",
        "    c = conn.cursor()\n",
        "\n",
        "    full_time = scalar_values['full_time']\n",
        "    budget = scalar_values['budget']\n",
        "    skills = scalar_values['skills']\n",
        "    company = scalar_values['company']\n",
        "\n",
        "    # Perform additional filtering based on scalar values and skills\n",
        "    results = c.execute(\n",
        "        \"SELECT name, experience, full_time, hourly_rate, company FROM Worker WHERE (full_time = ? AND hourly_rate <= ? AND ? ILIKE ANY(skills) AND company = ?)\",\n",
        "        (full_time, budget, skills, company))\n",
        "\n",
        "    return results\n",
        "\n",
        "if __name__ == '__main__':\n",
        "    create_schema(connect_to_db())\n",
        "    create_sample_data(connect_to_db())\n",
        "\n",
        "    # Generate embeddings and save them to the database\n",
        "    # Replace this with your custom implementation\n",
        "    #generate_embeddings(connect_to_db())\n",
        "\n",
        "    #search_workers(query='your query here', embedding_file='path/to/embedding.npy')"
      ],
      "metadata": {
        "id": "3scOiVJL28mi"
      },
      "execution_count": 3,
      "outputs": []
    }
  ]
}