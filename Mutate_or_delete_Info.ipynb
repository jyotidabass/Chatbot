{
  "nbformat": 4,
  "nbformat_minor": 0,
  "metadata": {
    "colab": {
      "provenance": [],
      "authorship_tag": "ABX9TyP+WZ8JCgNuM2FtGp4iLkOs",
      "include_colab_link": true
    },
    "kernelspec": {
      "name": "python3",
      "display_name": "Python 3"
    },
    "language_info": {
      "name": "python"
    }
  },
  "cells": [
    {
      "cell_type": "markdown",
      "metadata": {
        "id": "view-in-github",
        "colab_type": "text"
      },
      "source": [
        "<a href=\"https://colab.research.google.com/github/jyotidabass/Chatbot/blob/main/Mutate_or_delete_Info.ipynb\" target=\"_parent\"><img src=\"https://colab.research.google.com/assets/colab-badge.svg\" alt=\"Open In Colab\"/></a>"
      ]
    },
    {
      "cell_type": "markdown",
      "source": [
        "To ensure your search functionality remains intact when users are deleted or their resume information is mutated, you should handle updating the Pinecone index accordingly. In this example, we'll create a function to update the index whenever a user's information changes.\n",
        "\n",
        "**1. Update your index.py file to include a function for updating the Pinecone index:**"
      ],
      "metadata": {
        "id": "MSK0zUDDKrkC"
      }
    },
    {
      "cell_type": "code",
      "execution_count": 2,
      "metadata": {
        "colab": {
          "base_uri": "https://localhost:8080/"
        },
        "id": "vs-ayrnTKp5V",
        "outputId": "9ca0d430-d8e3-46b2-8fe2-0fd68cc59363"
      },
      "outputs": [
        {
          "output_type": "stream",
          "name": "stdout",
          "text": [
            "Collecting pinecone\n",
            "  Downloading pinecone-4.0.0-py3-none-any.whl (214 kB)\n",
            "\u001b[2K     \u001b[90m━━━━━━━━━━━━━━━━━━━━━━━━━━━━━━━━━━━━━━━━\u001b[0m \u001b[32m214.4/214.4 kB\u001b[0m \u001b[31m4.1 MB/s\u001b[0m eta \u001b[36m0:00:00\u001b[0m\n",
            "\u001b[?25hRequirement already satisfied: certifi>=2019.11.17 in /usr/local/lib/python3.10/dist-packages (from pinecone) (2024.6.2)\n",
            "Requirement already satisfied: tqdm>=4.64.1 in /usr/local/lib/python3.10/dist-packages (from pinecone) (4.66.4)\n",
            "Requirement already satisfied: typing-extensions>=3.7.4 in /usr/local/lib/python3.10/dist-packages (from pinecone) (4.12.2)\n",
            "Requirement already satisfied: urllib3>=1.26.0 in /usr/local/lib/python3.10/dist-packages (from pinecone) (2.0.7)\n",
            "Installing collected packages: pinecone\n",
            "Successfully installed pinecone-4.0.0\n"
          ]
        }
      ],
      "source": [
        "!pip install pinecone\n",
        "import pinecone\n",
        "\n",
        "def update_pinecone_index(user_id, resume_data):\n",
        "    # Use your Pinecone API key and endpoint details here\n",
        "    client = pinecone.Client(api_key=\"your_api_key\")\n",
        "\n",
        "    # Update or create the user's vector in the Pinecone index\n",
        "    response = client.update(\n",
        "        index=\"your_index_name\",\n",
        "        document_key=str(user_id),\n",
        "        document=resume_data,\n",
        "        vector=resume_data[\"vector\"],\n",
        "    )\n",
        "    return response"
      ]
    },
    {
      "cell_type": "markdown",
      "source": [
        "**Modify your create_or_update_candidate function in index.py to call update_pinecone_index when a new candidate is created or an existing one is updated:**"
      ],
      "metadata": {
        "id": "t0H7DmKkLDVK"
      }
    },
    {
      "cell_type": "code",
      "source": [
        "def create_or_update_candidate(req_data):\n",
        "    user_id = req_data['user_id']\n",
        "    resume_data = req_data['resume_data']\n",
        "\n",
        "    # ... (your existing code to create/update the user)\n",
        "\n",
        "    # Update the Pinecone index with the new/updated resume information\n",
        "    update_pinecone_index(user_id, resume_data)\n",
        "\n",
        "    return {'status': 'Candidate created/updated successfully.'}"
      ],
      "metadata": {
        "id": "-JMfP-MRLE_Z"
      },
      "execution_count": 3,
      "outputs": []
    },
    {
      "cell_type": "markdown",
      "source": [
        "**Create a function to delete a user from both the PostgreSQL database and the Pinecone index. Modify your delete_user function in index.py**"
      ],
      "metadata": {
        "id": "F4f4OyQSLP4E"
      }
    },
    {
      "cell_type": "code",
      "source": [
        "def delete_user(user_id):\n",
        "    # ... (your existing code to delete the user from the database)\n",
        "\n",
        "    # Delete the user's vector from the Pinecone index\n",
        "    client = pinecone.Client(api_key=\"your_api_key\")\n",
        "    response = client.delete(\n",
        "        index=\"your_index_name\",\n",
        "        document_key=str(user_id),\n",
        "    )\n",
        "    return response"
      ],
      "metadata": {
        "id": "Nus5YbsQLQuE"
      },
      "execution_count": 4,
      "outputs": []
    },
    {
      "cell_type": "markdown",
      "source": [
        "**With these changes, your search functionality will remain intact even if users are deleted or their resume information is mutated. When a user's information is updated or deleted, the corresponding Pinecone document will be updated or deleted as well.**"
      ],
      "metadata": {
        "id": "FAFIKGnbLagt"
      }
    }
  ]
}