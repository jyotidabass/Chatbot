{
  "nbformat": 4,
  "nbformat_minor": 0,
  "metadata": {
    "colab": {
      "provenance": [],
      "authorship_tag": "ABX9TyMjZ98DCFGfr0wn0642eD2H",
      "include_colab_link": true
    },
    "kernelspec": {
      "name": "python3",
      "display_name": "Python 3"
    },
    "language_info": {
      "name": "python"
    }
  },
  "cells": [
    {
      "cell_type": "markdown",
      "metadata": {
        "id": "view-in-github",
        "colab_type": "text"
      },
      "source": [
        "<a href=\"https://colab.research.google.com/github/jyotidabass/Chatbot/blob/main/Ranking.ipynb\" target=\"_parent\"><img src=\"https://colab.research.google.com/assets/colab-badge.svg\" alt=\"Open In Colab\"/></a>"
      ]
    },
    {
      "cell_type": "markdown",
      "source": [
        "# Ranking Algorithm\n",
        "\n",
        "In this, we'll use the sorted function to sort the candidates based on the combined score.\n",
        "\n",
        "In this example, the calculate_combined_score function calculates a weighted score for each candidate, with higher weights for work experience and Github data. You can adjust the weights according to your preferences.\n",
        "\n",
        "With this change, the search results will be sorted by the combined score, with the highest-ranked candidates appearing first."
      ],
      "metadata": {
        "id": "3DRhmO3-JZia"
      }
    },
    {
      "cell_type": "code",
      "source": [
        "def calculate_combined_score(candidate):\n",
        "    # Add weights for each factor (e.g., 2 for work experience, 1 for education, etc.)\n",
        "    background_score = 2 * candidate['work_experience'] + candidate['education']\n",
        "    github_score = candidate['github_data_score']\n",
        "    return background_score + github_score\n",
        "\n",
        "def search_by_skills(request_data):\n",
        "    skills = request_data['skills']\n",
        "    department = request_data['department']\n",
        "    location = request_data['location']\n",
        "    min_experience = request_data['min_experience']\n",
        "    min_salary = request_data['min_salary']\n",
        "\n",
        "    # ... (your existing code to fetch and filter candidates)\n",
        "\n",
        "    results = sorted(results, key=lambda candidate: calculate_combined_score(candidate), reverse=True)\n",
        "\n",
        "    return results"
      ],
      "metadata": {
        "id": "hrUZMsaiHLL0"
      },
      "execution_count": 29,
      "outputs": []
    }
  ]
}