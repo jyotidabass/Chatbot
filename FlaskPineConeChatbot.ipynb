{
  "nbformat": 4,
  "nbformat_minor": 0,
  "metadata": {
    "colab": {
      "provenance": [],
      "authorship_tag": "ABX9TyO5yDHDhK2vZ5vf8w/hWLIy",
      "include_colab_link": true
    },
    "kernelspec": {
      "name": "python3",
      "display_name": "Python 3"
    },
    "language_info": {
      "name": "python"
    }
  },
  "cells": [
    {
      "cell_type": "markdown",
      "metadata": {
        "id": "view-in-github",
        "colab_type": "text"
      },
      "source": [
        "<a href=\"https://colab.research.google.com/github/jyotidabass/Chatbot/blob/main/FlaskPineConeChatbot.ipynb\" target=\"_parent\"><img src=\"https://colab.research.google.com/assets/colab-badge.svg\" alt=\"Open In Colab\"/></a>"
      ]
    },
    {
      "cell_type": "markdown",
      "source": [
        "# **Install required libraries**"
      ],
      "metadata": {
        "id": "wKGkMnnOCqJl"
      }
    },
    {
      "cell_type": "code",
      "source": [
        "!pip install Flask SQLAlchemy requests google-auth-oauthlib google-auth pandas\n",
        "!pip install pinecone"
      ],
      "metadata": {
        "colab": {
          "base_uri": "https://localhost:8080/"
        },
        "id": "kCbRKasV6U6S",
        "outputId": "2f44bc1c-c16e-4604-b6cb-87d548a7b75b"
      },
      "execution_count": 9,
      "outputs": [
        {
          "output_type": "stream",
          "name": "stdout",
          "text": [
            "Requirement already satisfied: Flask in /usr/local/lib/python3.10/dist-packages (2.2.5)\n",
            "Requirement already satisfied: SQLAlchemy in /usr/local/lib/python3.10/dist-packages (2.0.30)\n",
            "Requirement already satisfied: requests in /usr/local/lib/python3.10/dist-packages (2.31.0)\n",
            "Requirement already satisfied: google-auth-oauthlib in /usr/local/lib/python3.10/dist-packages (1.2.0)\n",
            "Requirement already satisfied: google-auth in /usr/local/lib/python3.10/dist-packages (2.27.0)\n",
            "Requirement already satisfied: pandas in /usr/local/lib/python3.10/dist-packages (2.0.3)\n",
            "Requirement already satisfied: Werkzeug>=2.2.2 in /usr/local/lib/python3.10/dist-packages (from Flask) (3.0.3)\n",
            "Requirement already satisfied: Jinja2>=3.0 in /usr/local/lib/python3.10/dist-packages (from Flask) (3.1.4)\n",
            "Requirement already satisfied: itsdangerous>=2.0 in /usr/local/lib/python3.10/dist-packages (from Flask) (2.2.0)\n",
            "Requirement already satisfied: click>=8.0 in /usr/local/lib/python3.10/dist-packages (from Flask) (8.1.7)\n",
            "Requirement already satisfied: typing-extensions>=4.6.0 in /usr/local/lib/python3.10/dist-packages (from SQLAlchemy) (4.12.2)\n",
            "Requirement already satisfied: greenlet!=0.4.17 in /usr/local/lib/python3.10/dist-packages (from SQLAlchemy) (3.0.3)\n",
            "Requirement already satisfied: charset-normalizer<4,>=2 in /usr/local/lib/python3.10/dist-packages (from requests) (3.3.2)\n",
            "Requirement already satisfied: idna<4,>=2.5 in /usr/local/lib/python3.10/dist-packages (from requests) (3.7)\n",
            "Requirement already satisfied: urllib3<3,>=1.21.1 in /usr/local/lib/python3.10/dist-packages (from requests) (2.0.7)\n",
            "Requirement already satisfied: certifi>=2017.4.17 in /usr/local/lib/python3.10/dist-packages (from requests) (2024.6.2)\n",
            "Requirement already satisfied: requests-oauthlib>=0.7.0 in /usr/local/lib/python3.10/dist-packages (from google-auth-oauthlib) (1.3.1)\n",
            "Requirement already satisfied: cachetools<6.0,>=2.0.0 in /usr/local/lib/python3.10/dist-packages (from google-auth) (5.3.3)\n",
            "Requirement already satisfied: pyasn1-modules>=0.2.1 in /usr/local/lib/python3.10/dist-packages (from google-auth) (0.4.0)\n",
            "Requirement already satisfied: rsa<5,>=3.1.4 in /usr/local/lib/python3.10/dist-packages (from google-auth) (4.9)\n",
            "Requirement already satisfied: python-dateutil>=2.8.2 in /usr/local/lib/python3.10/dist-packages (from pandas) (2.8.2)\n",
            "Requirement already satisfied: pytz>=2020.1 in /usr/local/lib/python3.10/dist-packages (from pandas) (2023.4)\n",
            "Requirement already satisfied: tzdata>=2022.1 in /usr/local/lib/python3.10/dist-packages (from pandas) (2024.1)\n",
            "Requirement already satisfied: numpy>=1.21.0 in /usr/local/lib/python3.10/dist-packages (from pandas) (1.25.2)\n",
            "Requirement already satisfied: MarkupSafe>=2.0 in /usr/local/lib/python3.10/dist-packages (from Jinja2>=3.0->Flask) (2.1.5)\n",
            "Requirement already satisfied: pyasn1<0.7.0,>=0.4.6 in /usr/local/lib/python3.10/dist-packages (from pyasn1-modules>=0.2.1->google-auth) (0.6.0)\n",
            "Requirement already satisfied: six>=1.5 in /usr/local/lib/python3.10/dist-packages (from python-dateutil>=2.8.2->pandas) (1.16.0)\n",
            "Requirement already satisfied: oauthlib>=3.0.0 in /usr/local/lib/python3.10/dist-packages (from requests-oauthlib>=0.7.0->google-auth-oauthlib) (3.2.2)\n",
            "Collecting pinecone\n",
            "  Downloading pinecone-4.0.0-py3-none-any.whl (214 kB)\n",
            "\u001b[2K     \u001b[90m━━━━━━━━━━━━━━━━━━━━━━━━━━━━━━━━━━━━━━━━\u001b[0m \u001b[32m214.4/214.4 kB\u001b[0m \u001b[31m3.3 MB/s\u001b[0m eta \u001b[36m0:00:00\u001b[0m\n",
            "\u001b[?25hRequirement already satisfied: certifi>=2019.11.17 in /usr/local/lib/python3.10/dist-packages (from pinecone) (2024.6.2)\n",
            "Requirement already satisfied: tqdm>=4.64.1 in /usr/local/lib/python3.10/dist-packages (from pinecone) (4.66.4)\n",
            "Requirement already satisfied: typing-extensions>=3.7.4 in /usr/local/lib/python3.10/dist-packages (from pinecone) (4.12.2)\n",
            "Requirement already satisfied: urllib3>=1.26.0 in /usr/local/lib/python3.10/dist-packages (from pinecone) (2.0.7)\n",
            "Installing collected packages: pinecone\n",
            "Successfully installed pinecone-4.0.0\n"
          ]
        }
      ]
    },
    {
      "cell_type": "markdown",
      "source": [
        "**Set up the Pinecone embeddings vector database**\n",
        "\n",
        "Create a Pinecone project and a new vector search space. Add your vectors (e.g., pre-trained BERT embeddings) and the corresponding metadata (e.g., engineer profiles) to the vector search space.\n",
        "\n",
        "\n",
        "**Set up the SQLAlchemy database**\n",
        "\n",
        "Create a SQLite or PostgreSQL database and set up SQLAlchemy to connect to it. Populate the database with information about the engineers, including their skills, experience, and other relevant details.\n",
        "\n",
        "\n",
        "**Create the Flask app**\n",
        "Create a Flask app to handle the front-end requests and serve the search function and results."
      ],
      "metadata": {
        "id": "mxGAOlJTC3ZW"
      }
    },
    {
      "cell_type": "code",
      "source": [
        "from flask import Flask, request, jsonify\n",
        "from sqlalchemy import create_engine, text\n",
        "import requests\n",
        "import pandas as pd\n",
        "\n",
        "app = Flask(__name__)\n",
        "engine = create_engine('sqlite:///engine_data.db')\n",
        "\n",
        "@app.route(\"/search\", methods=[\"POST\"])\n",
        "def search():\n",
        "    # Extract the search query from the request\n",
        "    query = request.form[\"query\"]\n",
        "\n",
        "    # Perform the search\n",
        "    if \"scalar\" in query:\n",
        "        results = scalar_search(query)\n",
        "    else:\n",
        "        results = semantic_search(query)\n",
        "\n",
        "    # Return the results\n",
        "    return jsonify(results)\n",
        "\n",
        "@app.route(\"/\")\n",
        "def home():\n",
        "    return \"Chatbot Search API\"\n",
        "\n",
        "if __name__ == \"__main__\":\n",
        "    app.run(debug=True)"
      ],
      "metadata": {
        "colab": {
          "base_uri": "https://localhost:8080/"
        },
        "id": "wpth4ktuBy6w",
        "outputId": "dc1b3f9c-9212-46ae-bb93-1a5ab581d87c"
      },
      "execution_count": 10,
      "outputs": [
        {
          "output_type": "stream",
          "name": "stdout",
          "text": [
            " * Serving Flask app '__main__'\n",
            " * Debug mode: on\n"
          ]
        },
        {
          "output_type": "stream",
          "name": "stderr",
          "text": [
            "INFO:werkzeug:\u001b[31m\u001b[1mWARNING: This is a development server. Do not use it in a production deployment. Use a production WSGI server instead.\u001b[0m\n",
            " * Running on http://127.0.0.1:5000\n",
            "INFO:werkzeug:\u001b[33mPress CTRL+C to quit\u001b[0m\n",
            "INFO:werkzeug: * Restarting with stat\n"
          ]
        }
      ]
    },
    {
      "cell_type": "markdown",
      "source": [
        "Create a scalar_search function that takes a query and performs a search based on the scalar criteria (part-time/full-time, budget, and skills). This function should return the relevant candidate rows."
      ],
      "metadata": {
        "id": "erDkVv5KDKXV"
      }
    },
    {
      "cell_type": "code",
      "source": [
        "def scalar_search(query):\n",
        "    # Extract scalar parameters from the query\n",
        "    part_time = \"part-time\" in query\n",
        "    full_time = \"full-time\" in query\n",
        "    budget = ... # Extract budget from query\n",
        "\n",
        "    # Query the database for relevant candidates\n",
        "    candidates = pd.read_sql_query(\"SELECT * FROM engineers WHERE \", engine)\n",
        "\n",
        "    # Filter candidates based on part-time/full-time and budget\n",
        "    candidates = candidates[(candidates[\"type\"] == \"full-time\") | (candidates[\"type\"] == \"part-time\") & (candidates[\"budget\"] >= budget)]\n",
        "\n",
        "    # Filter candidates based on skills\n",
        "    skills = ... # Extract skills from query\n",
        "    candidates = candidates[candidates[\"skills\"].str.contains(\"|\".join(skills))]\n",
        "\n",
        "    return candidates"
      ],
      "metadata": {
        "id": "3tevFXP8CCV2"
      },
      "execution_count": 11,
      "outputs": []
    },
    {
      "cell_type": "markdown",
      "source": [
        "Create a semantic_search function that takes a query and performs a semantic search using the Pinecone embeddings vector database. This function should return the relevant candidate rows."
      ],
      "metadata": {
        "id": "LzXOSQDjDSyW"
      }
    },
    {
      "cell_type": "code",
      "source": [
        "def semantic_search(query):\n",
        "    # Embed the query using your pre-trained model\n",
        "    embedding = ... # Embed the query using BERT, for example\n",
        "\n",
        "    # Query the Pinecone embeddings vector database for similar vectors\n",
        "    response = requests.post(\n",
        "        \"https://api.pinecone.io/v1/search\",\n",
        "        headers={\"Authorization\": f\"Bearer your_pinecone_api_key\"},\n",
        "        json={\"query\": embedding, \"vector_size\": 768},\n",
        "    )\n",
        "\n",
        "    # Process the results\n",
        "    results = json.loads(response.text)[\"results\"]\n",
        "    result_ids = [r[\"id\"] for r in results]\n",
        "\n",
        "    # Get the candidate rows\n",
        "    candidates = pd.read_sql_query(\"SELECT * FROM engineers WHERE id IN (%s)\" % \",\".join(result_ids), engine)\n",
        "\n",
        "    return candidates"
      ],
      "metadata": {
        "id": "YYECsxwBCRL5"
      },
      "execution_count": 12,
      "outputs": []
    }
  ]
}